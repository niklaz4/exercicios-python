{
 "cells": [
  {
   "cell_type": "code",
   "execution_count": 1,
   "metadata": {},
   "outputs": [
    {
     "name": "stdout",
     "output_type": "stream",
     "text": [
      "Alô, mundo\n"
     ]
    }
   ],
   "source": [
    "print('Alô, mundo')"
   ]
  },
  {
   "cell_type": "code",
   "execution_count": 2,
   "metadata": {},
   "outputs": [
    {
     "name": "stdout",
     "output_type": "stream",
     "text": [
      "O numero informado foi 4\n"
     ]
    }
   ],
   "source": [
    "#Faça um Programa que peça um número e então mostre a mensagem O número informado foi [número].\n",
    "a = int(input(\"Primeiro numero:\" ))\n",
    "print(\"O numero informado foi\", a)"
   ]
  },
  {
   "cell_type": "code",
   "execution_count": 4,
   "metadata": {},
   "outputs": [
    {
     "name": "stdout",
     "output_type": "stream",
     "text": [
      "total: 6\n"
     ]
    }
   ],
   "source": [
    "#Faça um Programa que peça dois números e imprima a soma\n",
    "a = int(input(\"Primeiro numero:\"))\n",
    "b = int(input(\"Segundo numero:\"))\n",
    "print(\"total:\", a+b)"
   ]
  },
  {
   "cell_type": "code",
   "execution_count": 5,
   "metadata": {},
   "outputs": [
    {
     "name": "stdout",
     "output_type": "stream",
     "text": [
      "media bimestral:  6.824999999999999\n"
     ]
    }
   ],
   "source": [
    "#Faça um Programa que peça as 4 notas bimestrais e mostre a média.\n",
    "nota1 = float(input(\"Nota 1: \"))\n",
    "nota2 = float(input(\"Nota 2: \"))\n",
    "nota3 = float(input(\"Nota 3: \"))\n",
    "nota4 = float(input(\"Nota 4: \"))\n",
    "media = (nota1 + nota2 + nota3 + nota4)/4\n",
    "print(\"media bimestral: \", media)"
   ]
  },
  {
   "cell_type": "code",
   "execution_count": 6,
   "metadata": {},
   "outputs": [
    {
     "name": "stdout",
     "output_type": "stream",
     "text": [
      "Centimetros:  180.0\n"
     ]
    }
   ],
   "source": [
    "#Faça um Programa que converta metros para centímetros.\n",
    "metros = float(input(\"Valor em metros: \"))\n",
    "\n",
    "centimetros = metros * 100\n",
    "\n",
    "print(\"Centimetros: \", centimetros)"
   ]
  },
  {
   "cell_type": "code",
   "execution_count": 7,
   "metadata": {},
   "outputs": [
    {
     "name": "stdout",
     "output_type": "stream",
     "text": [
      "Area do circulo:  153.86\n"
     ]
    }
   ],
   "source": [
    "#Faça um Programa que peça o raio de um círculo, calcule e mostre sua área.\n",
    "raio = float(input(\"Informe o raio de um circulo: \"))\n",
    "\n",
    "area = 3.14 * raio ** 2\n",
    "\n",
    "print(\"Area do circulo: \", area)"
   ]
  },
  {
   "cell_type": "code",
   "execution_count": 8,
   "metadata": {},
   "outputs": [
    {
     "name": "stdout",
     "output_type": "stream",
     "text": [
      "Area do quadrado:  49.0\n",
      "Dobro da area:  98.0\n"
     ]
    }
   ],
   "source": [
    "#Faça um Programa que calcule a área de um quadrado, em seguida mostre o dobro desta área para o usuário.\n",
    "lado = float(input(\"Informe o tamanho de um lado do quadrado: \"))\n",
    "\n",
    "area = lado ** 2\n",
    "\n",
    "dobro = area * 2\n",
    "\n",
    "print(\"Area do quadrado: \", area)\n",
    "print(\"Dobro da area: \", dobro)"
   ]
  },
  {
   "cell_type": "code",
   "execution_count": 9,
   "metadata": {},
   "outputs": [
    {
     "name": "stdout",
     "output_type": "stream",
     "text": [
      "Salario: 1600.8\n"
     ]
    }
   ],
   "source": [
    "#Faça um Programa que pergunte quanto você ganha por hora e o número de horas trabalhadas no mês. Calcule e mostre o total do seu salário no referido mês.\n",
    "hora = float(input(\"Quanto você ganha por hora? \"))\n",
    "horas_trabalhadas = float(input(\"Horas trabalhadas no dia: \"))\n",
    "\n",
    "salario = hora * horas_trabalhadas * 30\n",
    "print(\"Salario:\", salario)"
   ]
  },
  {
   "cell_type": "code",
   "execution_count": 10,
   "metadata": {},
   "outputs": [
    {
     "name": "stdout",
     "output_type": "stream",
     "text": [
      "Temperatura em Celsius:  32.22222222222222\n"
     ]
    }
   ],
   "source": [
    "#Faça um Programa que peça a temperatura em graus Fahrenheit, transforme e mostre a temperatura em graus Celsius.\n",
    "temp_far = float(input(\"Temperatura em Fahrenheit: \"))\n",
    "\n",
    "celsius = 5 * ((temp_far - 32)/9)\n",
    "\n",
    "print(\"Temperatura em Celsius: \", celsius)"
   ]
  },
  {
   "cell_type": "code",
   "execution_count": 11,
   "metadata": {},
   "outputs": [
    {
     "name": "stdout",
     "output_type": "stream",
     "text": [
      "Temperatura em Fahrenheit:  89.6\n"
     ]
    }
   ],
   "source": [
    "#Faça um Programa que peça a temperatura em graus Celsius, transforme e mostre em graus Fahrenheit.\n",
    "temp_celsius = float(input(\"Temperatura em Celsius: \"))\n",
    "\n",
    "fahrenheit = (temp_celsius * 9/5) + 32\n",
    "\n",
    "print(\"Temperatura em Fahrenheit: \", fahrenheit)"
   ]
  },
  {
   "cell_type": "code",
   "execution_count": 12,
   "metadata": {},
   "outputs": [
    {
     "name": "stdout",
     "output_type": "stream",
     "text": [
      "Produto:  27.0\n",
      "Soma:  30.4\n",
      "Potencia:  39.303999999999995\n"
     ]
    }
   ],
   "source": [
    "#Faça um Programa que peça 2 números inteiros e um número real. Calcule e mostre:\n",
    "#o produto do dobro do primeiro com metade do segundo .\n",
    "# a soma do triplo do primeiro com o terceiro.\n",
    "# o terceiro elevado ao cubo.\n",
    "\n",
    "a = int(input(\"Numero inteiro 01: \"))\n",
    "b = int(input(\"Numero inteiro 02: \"))\n",
    "c = float(input(\"Numero real: \"))\n",
    "\n",
    "produto = ((2 * a) * (b/2))\n",
    "soma =  (3 * a) + c\n",
    "potencia = c ** 3\n",
    "\n",
    "print(\"Produto: \", produto)\n",
    "print(\"Soma: \", soma)\n",
    "print(\"Potencia: \", potencia)"
   ]
  },
  {
   "cell_type": "code",
   "execution_count": 13,
   "metadata": {},
   "outputs": [
    {
     "name": "stdout",
     "output_type": "stream",
     "text": [
      "Peso ideal:  64.863\n"
     ]
    }
   ],
   "source": [
    "#Tendo como dados de entrada a altura de uma pessoa, construa um algoritmo que calcule seu peso ideal, usando a seguinte fórmula: (72.7*altura) - 58\n",
    "altura = float(input(\"Altura: \"))\n",
    "\n",
    "peso = (72.7 * altura) - 58\n",
    "\n",
    "print(\"Peso ideal: \", peso)"
   ]
  },
  {
   "cell_type": "code",
   "execution_count": 14,
   "metadata": {},
   "outputs": [
    {
     "name": "stdout",
     "output_type": "stream",
     "text": [
      "Seu peso ideal é aproximadamente 65.59 kg.\n"
     ]
    }
   ],
   "source": [
    "#Tendo como dado de entrada a altura (h) de uma pessoa, construa um algoritmo que calcule seu peso ideal, utilizando as seguintes fórmulas:\n",
    "#Para homens: (72.7*h) - 58\n",
    "#Para mulheres: (62.1*h) - 44.7\n",
    "\n",
    "def calcular_peso_ideal(altura, genero):\n",
    "    if genero.lower() == 'homem':\n",
    "        peso_ideal = (72.7 * altura) - 58\n",
    "    elif genero.lower() == 'mulher':\n",
    "        peso_ideal = (62.1 * altura) - 44.7\n",
    "    else:\n",
    "        print(\"Por favor, insira 'homem' ou 'mulher' como gênero.\")\n",
    "        return None\n",
    "    return peso_ideal\n",
    "\n",
    "# Solicitar entrada do usuário\n",
    "altura = float(input(\"Digite sua altura em metros: \"))\n",
    "genero = input(\"Digite seu gênero (homem/mulher): \")\n",
    "\n",
    "# Calcular e exibir o peso ideal\n",
    "peso_ideal = calcular_peso_ideal(altura, genero)\n",
    "if peso_ideal is not None:\n",
    "    print(f\"Seu peso ideal é aproximadamente {peso_ideal:.2f} kg.\")"
   ]
  },
  {
   "cell_type": "code",
   "execution_count": 15,
   "metadata": {},
   "outputs": [
    {
     "name": "stdout",
     "output_type": "stream",
     "text": [
      "Não há excesso de peso. Nenhuma multa será aplicada.\n"
     ]
    }
   ],
   "source": [
    "#João Papo-de-Pescador, homem de bem, comprou um microcomputador para controlar o rendimento diário de seu trabalho. Toda vez que ele traz um peso de peixes maior que o estabelecido pelo regulamento de pesca do estado de São Paulo (50 quilos) deve pagar uma multa de R$ 4,00 por quilo excedente. João precisa que você faça um programa que leia a variável peso (peso de peixes) e calcule o excesso. Gravar na variável excesso a quantidade de quilos além do limite e na variável multa o valor da multa que João deverá pagar. Imprima os dados do programa com as mensagens adequadas.\n",
    "# Solicitar a entrada do peso de peixes\n",
    "peso_peixes = float(input(\"Digite o peso dos peixes em quilos: \"))\n",
    "\n",
    "# Definir o limite estabelecido pelo regulamento de pesca\n",
    "limite_peso = 50\n",
    "\n",
    "# Calcular o excesso de peso e a multa, se houver\n",
    "if peso_peixes > limite_peso:\n",
    "    excesso = peso_peixes - limite_peso\n",
    "    multa_por_quilo = 4.00\n",
    "    multa = excesso * multa_por_quilo\n",
    "\n",
    "    # Exibir os resultados\n",
    "    print(f\"Excesso de peso: {excesso:.2f} kg\")\n",
    "    print(f\"Multa a ser paga: R${multa:.2f}\")\n",
    "else:\n",
    "    # Se o peso estiver dentro do limite, não há excesso nem multa\n",
    "    print(\"Não há excesso de peso. Nenhuma multa será aplicada.\")"
   ]
  },
  {
   "cell_type": "code",
   "execution_count": 16,
   "metadata": {},
   "outputs": [
    {
     "name": "stdout",
     "output_type": "stream",
     "text": [
      "Salário bruto:  1738.0\n",
      "Valor do desconto do imposto de renda:  191.18\n",
      "Valor do desconto do INSS:  139.04\n",
      "Valor do desconto do sindicato:  86.9\n",
      "Salário líquido:  1320.8799999999999\n"
     ]
    }
   ],
   "source": [
    "#Faça um Programa que pergunte quanto você ganha por hora e o número de horas trabalhadas no mês. Calcule e mostre o total do seu salário no referido mês, sabendo-se que são descontados 11% para o Imposto de Renda, 8% para o INSS e 5% para o sindicato, faça um programa que nos dê:\n",
    "#salário bruto.\n",
    "#quanto pagou ao INSS.\n",
    "#quanto pagou ao sindicato.\n",
    "#o salário líquido.\n",
    "#calcule os descontos e o salário líquido, conforme a tabela abaixo:\n",
    "ganho_por_hora = float(input(\"Quanto você ganha por hora? \"))\n",
    "numero_horas_trabalhadas_no_mes = float(input(\"Horas trabalhadas no mês: \"))\n",
    "\n",
    "salario_bruto = ganho_por_hora * numero_horas_trabalhadas_no_mes\n",
    "\n",
    "imposto_renda = 0.11 * salario_bruto\n",
    "INSS = 0.08 * salario_bruto\n",
    "sindicato = 0.05 * salario_bruto\n",
    "\n",
    "salario_liquido = salario_bruto - imposto_renda - INSS - sindicato\n",
    "\n",
    "print(\"Salário bruto: \", salario_bruto)\n",
    "print(\"Valor do desconto do imposto de renda: \", imposto_renda)\n",
    "print(\"Valor do desconto do INSS: \", INSS)\n",
    "print(\"Valor do desconto do sindicato: \", sindicato)\n",
    "print(\"Salário líquido: \", salario_liquido)"
   ]
  },
  {
   "cell_type": "code",
   "execution_count": 17,
   "metadata": {},
   "outputs": [
    {
     "name": "stdout",
     "output_type": "stream",
     "text": [
      "Quantidade de latas necessarias:  0.7407407407407408\n",
      "Preco total a pagar:  59.25925925925927\n"
     ]
    }
   ],
   "source": [
    "#Faça um programa para uma loja de tintas. O programa deverá pedir o tamanho em metros quadrados da área a ser pintada. Considere que a cobertura da tinta é de 1 litro para cada 3 metros quadrados e que a tinta é vendida em latas de 18 litros, que custam R$ 80,00. Informe ao usuário a quantidades de latas de tinta a serem compradas e o preço total.\n",
    "tamanho = float(input(\"Tamanho em metros quadrados da área a ser pintada: \"))\n",
    "\n",
    "cobertura_por_litro = 3\n",
    "\n",
    "litros_necessarios = tamanho / cobertura_por_litro\n",
    "\n",
    "litros_por_lata = 18\n",
    "qtd_latas = litros_necessarios / litros_por_lata\n",
    "\n",
    "preco_por_lata = 80.0\n",
    "preco_total = qtd_latas * preco_por_lata\n",
    "\n",
    "print(\"Quantidade de latas necessarias: \", qtd_latas)\n",
    "print(\"Preco total a pagar: \", preco_total)"
   ]
  },
  {
   "cell_type": "code",
   "execution_count": 18,
   "metadata": {},
   "outputs": [
    {
     "name": "stdout",
     "output_type": "stream",
     "text": [
      "O tempo aproximado de download será de:  368640.0  minutos\n"
     ]
    }
   ],
   "source": [
    "#Faça um programa que peça o tamanho de um arquivo para download (em MB) e a velocidade de um link de Internet (em Mbps), calcule e informe o tempo aproximado de download do arquivo usando este link (em minutos).\n",
    "tamanho_MB = float(input(\"Insira o tamanho do arquivo para download: \"))\n",
    "velocidade_internet = float(input(\"Insira a velocidade da internet (em Mbps): \"))\n",
    "\n",
    "#1 byte = 8 bits\n",
    "calcular_velocidade = velocidade_internet / 8\n",
    "velocidade_por_segundo = calcular_velocidade / 1024\n",
    "\n",
    "tempo_download = tamanho_MB / velocidade_por_segundo\n",
    "\n",
    "converter_em_minutos = tempo_download * 60\n",
    "\n",
    "print(\"O tempo aproximado de download será de: \", converter_em_minutos, \" minutos\")"
   ]
  }
 ],
 "metadata": {
  "kernelspec": {
   "display_name": "Python 3",
   "language": "python",
   "name": "python3"
  },
  "language_info": {
   "codemirror_mode": {
    "name": "ipython",
    "version": 3
   },
   "file_extension": ".py",
   "mimetype": "text/x-python",
   "name": "python",
   "nbconvert_exporter": "python",
   "pygments_lexer": "ipython3",
   "version": "3.12.0"
  }
 },
 "nbformat": 4,
 "nbformat_minor": 2
}
