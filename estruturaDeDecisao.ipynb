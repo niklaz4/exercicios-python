{
 "cells": [
  {
   "cell_type": "code",
   "execution_count": 2,
   "metadata": {},
   "outputs": [
    {
     "name": "stdout",
     "output_type": "stream",
     "text": [
      "O maior numero é:  3\n"
     ]
    }
   ],
   "source": [
    "#Faça um Programa que peça dois números e imprima o maior deles\n",
    "a = int(input(\"Digite o primeiro numero: \"))\n",
    "b = int(input(\"Digite o segundo numero: \"))\n",
    "\n",
    "if a > b:\n",
    "     print(\"O maior numero é: \", a)\n",
    "else:\n",
    "     print(\"O maior numero é: \", b)"
   ]
  },
  {
   "cell_type": "code",
   "execution_count": 5,
   "metadata": {},
   "outputs": [
    {
     "name": "stdout",
     "output_type": "stream",
     "text": [
      "O valor é positivo.\n"
     ]
    }
   ],
   "source": [
    "#Faça um Programa que peça um valor e mostre na tela se o valor é positivo ou negativo.\n",
    "\n",
    "a = float(input(\"Digite um numero: \"))\n",
    "\n",
    "if a > 0:\n",
    "    print(\"O valor é positivo.\")\n",
    "elif a < 0:\n",
    "    print(\"O valor é negativo\")\n",
    "else:\n",
    "    print(\"O valor é zero.\")"
   ]
  },
  {
   "cell_type": "code",
   "execution_count": 8,
   "metadata": {},
   "outputs": [
    {
     "name": "stdout",
     "output_type": "stream",
     "text": [
      "Sexo Inválido\n"
     ]
    }
   ],
   "source": [
    "#Faça um Programa que verifique se uma letra digitada é \"F\" ou \"M\". Conforme a letra escrever: F - Feminino, M - Masculino, Sexo Inválido.\n",
    "letra = input(\"Digite uma letra:\" )\n",
    "\n",
    "letra = letra.upper()\n",
    "\n",
    "if letra == \"F\":\n",
    "    print(\"Feminino\")\n",
    "elif letra == \"M\":\n",
    "    print(\"Masculino\")\n",
    "else:\n",
    "    print(\"Sexo Inválido\")"
   ]
  },
  {
   "cell_type": "code",
   "execution_count": 12,
   "metadata": {},
   "outputs": [
    {
     "name": "stdout",
     "output_type": "stream",
     "text": [
      "Consoante\n"
     ]
    }
   ],
   "source": [
    "#Faça um Programa que verifique se uma letra digitada é vogal ou consoante.\n",
    "\n",
    "digito = input(\"Digite uma letra: \")\n",
    "\n",
    "digito = digito.upper()\n",
    "\n",
    "if digito == \"A\" or digito == \"E\" or digito == \"I\" or digito == \"O\" or digito == \"U\":\n",
    "    print(\"Vogal\")\n",
    "else:\n",
    "    print(\"Consoante\")"
   ]
  },
  {
   "cell_type": "code",
   "execution_count": 24,
   "metadata": {},
   "outputs": [
    {
     "name": "stdout",
     "output_type": "stream",
     "text": [
      "Aprovado com distincao\n"
     ]
    }
   ],
   "source": [
    "#Faça um programa para a leitura de duas notas parciais de um aluno. O programa deve calcular a média alcançada por aluno e apresentar:\n",
    "#A mensagem \"Aprovado\", se a média alcançada for maior ou igual a sete;\n",
    "#A mensagem \"Reprovado\", se a média for menor do que sete;\n",
    "#A mensagem \"Aprovado com Distinção\", se a média for igual a dez.\n",
    "\n",
    "nota1 = float(input(\"Insira a nota 1 do aluno: \"))\n",
    "nota2 = float(input(\"Insira a nota 2 do aluno: \"))\n",
    "\n",
    "media = (nota1 + nota2)/2\n",
    "\n",
    "if media == 10:\n",
    "    print(\"Aprovado com distincao\")\n",
    "elif media >= 7:\n",
    "    print(\"Aprovado\")\n",
    "else:\n",
    "    print(\"Reprovado\")"
   ]
  },
  {
   "cell_type": "code",
   "execution_count": 25,
   "metadata": {},
   "outputs": [
    {
     "name": "stdout",
     "output_type": "stream",
     "text": [
      "O maior numero é:  3\n"
     ]
    }
   ],
   "source": [
    "#Faça um Programa que leia três números e mostre o maior deles.\n",
    "\n",
    "a = int(input(\"Primeiro numero: \"))\n",
    "b = int(input(\"Segundo numero: \"))\n",
    "c = int(input(\"Terceiro numero: \"))\n",
    "\n",
    "maior = max(a,b,c)\n",
    "\n",
    "print(\"O maior numero é: \", maior)\n"
   ]
  },
  {
   "cell_type": "code",
   "execution_count": 26,
   "metadata": {},
   "outputs": [
    {
     "name": "stdout",
     "output_type": "stream",
     "text": [
      "O maior numero é:  85\n",
      "O menor numero é:  23\n"
     ]
    }
   ],
   "source": [
    "#Faça um Programa que leia três números e mostre o maior e o menor deles.\n",
    "\n",
    "a = int(input(\"Primeiro numero: \"))\n",
    "b = int(input(\"Segundo numero: \"))\n",
    "c = int(input(\"Terceiro numero: \"))\n",
    "\n",
    "maior = max(a,b,c)\n",
    "menor = min(a,b,c)\n",
    "\n",
    "print(\"O maior numero é: \", maior)\n",
    "print(\"O menor numero é: \", menor)"
   ]
  },
  {
   "cell_type": "code",
   "execution_count": 1,
   "metadata": {},
   "outputs": [
    {
     "name": "stdout",
     "output_type": "stream",
     "text": [
      "O produto mais barato é:  25.67\n"
     ]
    }
   ],
   "source": [
    "#Faça um programa que pergunte o preço de três produtos e informe qual produto você deve comprar, sabendo que a decisão é sempre pelo mais barato.\n",
    "\n",
    "a = float(input(\"Preço do item 01: \"))\n",
    "b = float(input(\"Preço do item 02: \"))\n",
    "c = float(input(\"Preço do item 03: \"))\n",
    "\n",
    "mais_barato = min(a,b,c)\n",
    "\n",
    "print(\"O produto mais barato é: \", mais_barato)\n"
   ]
  },
  {
   "cell_type": "code",
   "execution_count": 2,
   "metadata": {},
   "outputs": [
    {
     "name": "stdout",
     "output_type": "stream",
     "text": [
      "8\n",
      "5\n",
      "2\n"
     ]
    }
   ],
   "source": [
    "#Faça um Programa que leia três números e mostre-os em ordem decrescente.\n",
    "\n",
    "a = int(input(\"Primeiro numero: \"))\n",
    "b = int(input(\"Segundo numero: \"))\n",
    "c = int(input(\"Terceiro numero: \"))\n",
    "\n",
    "numeros = [a,b,c]\n",
    "\n",
    "numeros.sort(reverse=True)\n",
    "\n",
    "for x in numeros:\n",
    "    print(x)\n"
   ]
  },
  {
   "cell_type": "code",
   "execution_count": 6,
   "metadata": {},
   "outputs": [
    {
     "name": "stdout",
     "output_type": "stream",
     "text": [
      "Boa noite!\n"
     ]
    }
   ],
   "source": [
    "#Faça um Programa que pergunte em que turno você estuda. Peça para digitar M-matutino ou V-Vespertino ou N- Noturno. Imprima a mensagem \"Bom Dia!\", \"Boa Tarde!\" ou \"Boa Noite!\" ou \"Valor Inválido!\", conforme o caso.\n",
    "\n",
    "t = input(\"Digite o turno que você estuda: \")\n",
    "\n",
    "t.upper()\n",
    "\n",
    "if t == \"M\":\n",
    "    print(\"Bom dia!\")\n",
    "elif t == \"V\":\n",
    "    print(\"Boa tarde!\")\n",
    "elif t == \"N\":\n",
    "    print(\"Boa noite!\")\n",
    "else:\n",
    "    print(\"Inválido!\")"
   ]
  },
  {
   "cell_type": "code",
   "execution_count": 10,
   "metadata": {},
   "outputs": [
    {
     "name": "stdout",
     "output_type": "stream",
     "text": [
      "Salário antes do reajuste:  900.0\n",
      "O percentual de aumento aplicado é: 15%\n",
      "O valor de aumento é:  90.0\n",
      "O salário reajustado é:  990.0\n"
     ]
    }
   ],
   "source": [
    "#As Organizações Tabajara resolveram dar um aumento de salário aos seus colaboradores e lhe contraram para desenvolver o programa que calculará os reajustes.\n",
    "#Faça um programa que recebe o salário de um colaborador e o reajuste segundo o seguinte critério, baseado no salário atual:\n",
    "#salários até R$ 280,00 (incluindo) : aumento de 20%\n",
    "#salários entre R$ 280,00 e R$ 700,00 : aumento de 15%\n",
    "#salários entre R$ 700,00 e R$ 1500,00 : aumento de 10%\n",
    "#salários de R$ 1500,00 em diante : aumento de 5% Após o aumento ser realizado, informe na tela:\n",
    "#o salário antes do reajuste;\n",
    "#o percentual de aumento aplicado;\n",
    "#o valor do aumento;\n",
    "#o novo salário, após o aumento.\n",
    "\n",
    "salario = float(input(\"Salário do trabalhador: \"))\n",
    "\n",
    "if salario <= 280.0:\n",
    "    reajuste = salario + (salario * 0.20)\n",
    "    valor_aumento =  reajuste - salario\n",
    "    print(\"Salário antes do reajuste: \", salario)\n",
    "    print(\"O percentual de aumento aplicado é: 20%\")\n",
    "    print(\"O valor de aumento é: \", valor_aumento)\n",
    "    print(\"O salário reajustado é: \", reajuste)\n",
    "elif salario > 280.0 and salario < 700.0:\n",
    "    reajuste = salario + (salario * 0.15)\n",
    "    valor_aumento =  reajuste - salario\n",
    "    print(\"Salário antes do reajuste: \", salario)\n",
    "    print(\"O percentual de aumento aplicado é: 15%\")\n",
    "    print(\"O valor de aumento é: \", valor_aumento)\n",
    "    print(\"O salário reajustado é: \", reajuste)\n",
    "elif salario > 700.0 and salario < 1500.0:\n",
    "    reajuste = salario + (salario * 0.10)\n",
    "    valor_aumento =  reajuste - salario\n",
    "    print(\"Salário antes do reajuste: \", salario)\n",
    "    print(\"O percentual de aumento aplicado é: 15%\")\n",
    "    print(\"O valor de aumento é: \", valor_aumento)\n",
    "    print(\"O salário reajustado é: \", reajuste)\n",
    "else:\n",
    "    reajuste = salario + (salario * 0.05)\n",
    "    valor_aumento =  reajuste - salario\n",
    "    print(\"Salário antes do reajuste: \", salario)\n",
    "    print(\"O valor de aumento é: \", valor_aumento)\n",
    "    print(\"O salário reajustado é: \", reajuste)\n"
   ]
  },
  {
   "cell_type": "code",
   "execution_count": null,
   "metadata": {},
   "outputs": [],
   "source": []
  }
 ],
 "metadata": {
  "kernelspec": {
   "display_name": "Python 3",
   "language": "python",
   "name": "python3"
  },
  "language_info": {
   "codemirror_mode": {
    "name": "ipython",
    "version": 3
   },
   "file_extension": ".py",
   "mimetype": "text/x-python",
   "name": "python",
   "nbconvert_exporter": "python",
   "pygments_lexer": "ipython3",
   "version": "3.12.0"
  }
 },
 "nbformat": 4,
 "nbformat_minor": 2
}
